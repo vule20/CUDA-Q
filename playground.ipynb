{
 "cells": [
  {
   "cell_type": "code",
   "execution_count": 1,
   "metadata": {},
   "outputs": [],
   "source": [
    "import sys\n",
    "import cudaq"
   ]
  },
  {
   "cell_type": "code",
   "execution_count": 2,
   "metadata": {},
   "outputs": [],
   "source": [
    "@cudaq.kernel\n",
    "def kernel(qubit_count: int):\n",
    "    qubits = cudaq.qvector(qubit_count)\n",
    "    h(qubits[0])\n",
    "    for i in range(1, qubit_count):\n",
    "        x.ctrl(qubits[0], qubits[i])\n",
    "    mz(qubits)\n",
    "\n",
    "\n",
    "@cudaq.kernel\n",
    "def qubit_kernel(qubit_count: int):\n",
    "    # Allocate our qubits.\n",
    "    qvector = cudaq.qvector(qubit_count)\n",
    "    # Place the first qubit in the superposition state.\n",
    "    h(qvector[0])\n",
    "    # Loop through the allocated qubits and apply controlled-X,\n",
    "    # or CNOT, operations between them.\n",
    "    for qubit in range(qubit_count - 1):\n",
    "        x.ctrl(qvector[qubit], qvector[qubit + 1])\n",
    "    # Measure the qubits.\n",
    "    mz(qvector)"
   ]
  },
  {
   "cell_type": "code",
   "execution_count": 3,
   "metadata": {},
   "outputs": [
    {
     "name": "stdout",
     "output_type": "stream",
     "text": [
      "Running on target nvidia\n",
      "{ 00:513 11:487 }\n",
      "\n",
      "test with 20 qubits\n",
      "{ 00000000000000000000:490 11111111111111111111:510 }\n",
      "\n"
     ]
    }
   ],
   "source": [
    "print(f\"Running on target {cudaq.get_target().name}\")\n",
    "\n",
    "result = cudaq.sample(kernel, 2)\n",
    "print(result)  # Example: { 11:500 00:500 }\n",
    "\n",
    "print(f\"test with 20 qubits\")\n",
    "result = cudaq.sample(qubit_kernel, 20)\n",
    "print(result)  # Example: { 11:500 00:500 }"
   ]
  },
  {
   "cell_type": "markdown",
   "metadata": {},
   "source": [
    "## Sample"
   ]
  },
  {
   "cell_type": "code",
   "execution_count": 4,
   "metadata": {},
   "outputs": [
    {
     "name": "stdout",
     "output_type": "stream",
     "text": [
      "     ╭───╮               \n",
      "q0 : ┤ h ├──●────────────\n",
      "     ╰───╯╭─┴─╮          \n",
      "q1 : ─────┤ x ├──●───────\n",
      "          ╰───╯╭─┴─╮     \n",
      "q2 : ──────────┤ x ├──●──\n",
      "               ╰───╯╭─┴─╮\n",
      "q3 : ───────────────┤ x ├\n",
      "                    ╰───╯\n",
      "\n",
      "Measurement distribution:{ 0000:490 1111:510 }\n",
      "\n"
     ]
    }
   ],
   "source": [
    "qubit_count = 4\n",
    "print(cudaq.draw(qubit_kernel, qubit_count))\n",
    "results = cudaq.sample(qubit_kernel, qubit_count)\n",
    "\n",
    "# Should see a roughly 50/50 distribution between the |00> and\n",
    "# |11> states. Example: {00: 505  11: 495}\n",
    "\n",
    "print(\"Measurement distribution:\" + str(results))"
   ]
  },
  {
   "cell_type": "markdown",
   "metadata": {},
   "source": [
    "By default, sample produces an ensemble of 1000 shots. This can be changed by specifying an integer argument for the shots_count. Note that there is a subtle difference between how sample is executed with the target device set to a simulator or with the target device set to a QPU. When run on a simulator, the quantum state is built once and then sampled repeatedly, where the number of samples is defined by shots_count. When executed on quantum hardware, the quantum state collapses upon measurement and hence needs to be rebuilt every time to collect a sample.\n",
    "\n"
   ]
  },
  {
   "cell_type": "code",
   "execution_count": 5,
   "metadata": {},
   "outputs": [
    {
     "name": "stdout",
     "output_type": "stream",
     "text": [
      "Measurement distribution:{ 0000:4995 1111:5005 }\n",
      "\n"
     ]
    }
   ],
   "source": [
    "results = cudaq.sample(qubit_kernel, qubit_count, shots_count=10000)\n",
    "print(\"Measurement distribution:\" + str(results))"
   ]
  },
  {
   "cell_type": "markdown",
   "metadata": {},
   "source": [
    "A variety of methods can be used to extract useful information from a SampleResult. For example, to return the most probable measurement and its respective probability:"
   ]
  },
  {
   "cell_type": "code",
   "execution_count": 6,
   "metadata": {},
   "outputs": [
    {
     "name": "stdout",
     "output_type": "stream",
     "text": [
      "Most probable result: 1111\n",
      "Measured with probability 0.5005\n",
      "\n"
     ]
    }
   ],
   "source": [
    "most_probable_result = results.most_probable()\n",
    "probability = results.probability(most_probable_result)\n",
    "print(\"Most probable result: \" + most_probable_result)\n",
    "print(\"Measured with probability \" + str(probability), end='\\n\\n')"
   ]
  },
  {
   "cell_type": "markdown",
   "metadata": {},
   "source": [
    "## Async Execution"
   ]
  },
  {
   "cell_type": "markdown",
   "metadata": {},
   "source": [
    "Asynchronous execution allows to easily parallelize execution of multiple kernels on a multi-processor platform. Such a platform is available, for example, by choosing the target nvidia-mqpu:"
   ]
  },
  {
   "cell_type": "code",
   "execution_count": 7,
   "metadata": {},
   "outputs": [
    {
     "name": "stdout",
     "output_type": "stream",
     "text": [
      "Measurement distribution for kernel:{ 000:513 111:487 }\n",
      "\n",
      "Measurement distribution for kernel2:{ 000:126 001:123 010:131 011:126 100:105 101:141 110:128 111:120 }\n",
      "\n"
     ]
    }
   ],
   "source": [
    "@cudaq.kernel\n",
    "def kernel2(qubit_count: int):\n",
    "    qvector = cudaq.qvector(qubit_count)\n",
    "    h(qvector)\n",
    "    mz(qvector)\n",
    "\n",
    "num_gpus = cudaq.num_available_gpus()\n",
    "qubit_count = 3\n",
    "\n",
    "if num_gpus > 1:\n",
    "    # Set the target to include multiple virtual QPUs.\n",
    "    cudaq.set_target(\"nvidia\", option=\"mqpu\")\n",
    "    # Asynchronous execution on multiple virtual QPUs, each simulated by an NVIDIA GPU.\n",
    "    result_1 = cudaq.sample_async(kernel,\n",
    "                                  qubit_count,\n",
    "                                  shots_count=1000,\n",
    "                                  qpu_id=0)\n",
    "    result_2 = cudaq.sample_async(kernel2,\n",
    "                                  qubit_count,\n",
    "                                  shots_count=1000,\n",
    "                                  qpu_id=1)\n",
    "else:\n",
    "    # Schedule for execution on the same virtual QPU.\n",
    "    result_1 = cudaq.sample_async(kernel,\n",
    "                                  qubit_count,\n",
    "                                  shots_count=1000,\n",
    "                                  qpu_id=0)\n",
    "    result_2 = cudaq.sample_async(kernel2,\n",
    "                                  qubit_count,\n",
    "                                  shots_count=1000,\n",
    "                                  qpu_id=0)\n",
    "\n",
    "print(\"Measurement distribution for kernel:\" + str(result_1.get()))\n",
    "print(\"Measurement distribution for kernel2:\" + str(result_2.get()))"
   ]
  },
  {
   "cell_type": "markdown",
   "metadata": {},
   "source": [
    "## Observe"
   ]
  },
  {
   "cell_type": "markdown",
   "metadata": {},
   "source": [
    "The cudaq.observe() method takes a kernel and its arguments as inputs, along with a cudaq.SpinOperator.\n",
    "\n",
    "Using the cudaq.spin module, operators may be defined as a linear combination of Pauli strings. Functions, such as cudaq.spin.i(), cudaq.spin.x(), cudaq.spin.y(), cudaq.spin.z() may be used to construct more complex spin Hamiltonians on multiple qubits."
   ]
  },
  {
   "cell_type": "code",
   "execution_count": 14,
   "metadata": {},
   "outputs": [
    {
     "name": "stdout",
     "output_type": "stream",
     "text": [
      "[1+0j] Z\n",
      "\n"
     ]
    }
   ],
   "source": [
    "import cudaq\n",
    "from cudaq import spin\n",
    "\n",
    "operator = spin.z(0)\n",
    "print(operator)  # prints: [1+0j] Z\n",
    "\n",
    "@cudaq.kernel\n",
    "def new_kernel():\n",
    "    qubit = cudaq.qubit()\n",
    "    h(qubit)"
   ]
  },
  {
   "cell_type": "code",
   "execution_count": 15,
   "metadata": {},
   "outputs": [
    {
     "name": "stdout",
     "output_type": "stream",
     "text": [
      "0.0\n",
      "0.016000000000000014\n"
     ]
    }
   ],
   "source": [
    "result = cudaq.observe(new_kernel, operator)\n",
    "print(result.expectation())  # prints: 0.0\n",
    "\n",
    "result = cudaq.observe(new_kernel, operator, shots_count=1000)\n",
    "print(result.expectation())  # prints non-zero value"
   ]
  },
  {
   "cell_type": "markdown",
   "metadata": {},
   "source": [
    "### Running on a GPU"
   ]
  },
  {
   "cell_type": "code",
   "execution_count": 16,
   "metadata": {},
   "outputs": [
    {
     "name": "stdout",
     "output_type": "stream",
     "text": [
      "CPU time\n",
      "40.480660477885976\n",
      "GPU time\n",
      "0.8497714218683541\n"
     ]
    }
   ],
   "source": [
    "import sys\n",
    "import timeit\n",
    "\n",
    "# Will time the execution of our sample call.\n",
    "code_to_time = 'cudaq.sample(qubit_kernel, qubit_count, shots_count=1000000)'\n",
    "qubit_count = 25\n",
    "\n",
    "# Execute on CPU backend.\n",
    "cudaq.set_target('qpp-cpu')\n",
    "print('CPU time')\n",
    "print(timeit.timeit(stmt=code_to_time, globals=globals(), number=1))\n",
    "\n",
    "if cudaq.num_available_gpus() > 0:\n",
    "    # Execute on GPU backend.\n",
    "    cudaq.set_target('nvidia')\n",
    "    print('GPU time')  # Example: 0.773286 s.\n",
    "    print(timeit.timeit(stmt=code_to_time, globals=globals(), number=1))"
   ]
  }
 ],
 "metadata": {
  "kernelspec": {
   "display_name": "cudaq-env",
   "language": "python",
   "name": "python3"
  },
  "language_info": {
   "codemirror_mode": {
    "name": "ipython",
    "version": 3
   },
   "file_extension": ".py",
   "mimetype": "text/x-python",
   "name": "python",
   "nbconvert_exporter": "python",
   "pygments_lexer": "ipython3",
   "version": "3.11.8"
  }
 },
 "nbformat": 4,
 "nbformat_minor": 2
}
